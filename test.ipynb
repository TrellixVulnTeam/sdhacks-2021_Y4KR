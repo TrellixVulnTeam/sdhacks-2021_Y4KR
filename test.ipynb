{
 "metadata": {
  "language_info": {
   "codemirror_mode": {
    "name": "ipython",
    "version": 3
   },
   "file_extension": ".py",
   "mimetype": "text/x-python",
   "name": "python",
   "nbconvert_exporter": "python",
   "pygments_lexer": "ipython3",
   "version": "3.8.3-final"
  },
  "orig_nbformat": 2,
  "kernelspec": {
   "name": "python3",
   "display_name": "Python 3.8.3 64-bit ('base': conda)",
   "metadata": {
    "interpreter": {
     "hash": "5383312d987c33f6fb0700c9484ca01f2d04abcc6d6a8c6015bc2ca751174488"
    }
   }
  }
 },
 "nbformat": 4,
 "nbformat_minor": 2,
 "cells": [
  {
   "cell_type": "code",
   "execution_count": 1,
   "metadata": {},
   "outputs": [],
   "source": [
    "import os\n",
    "from smmryapi import SmmryAPI\n",
    "\n",
    "sm = SmmryAPI('61917EE288')"
   ]
  },
  {
   "cell_type": "code",
   "execution_count": 3,
   "metadata": {},
   "outputs": [],
   "source": [
    "url = 'http://www.bbc.com/news/business-43298897'\n",
    "\n",
    "s = sm.summarize(url, sm_length=5)"
   ]
  },
  {
   "cell_type": "code",
   "execution_count": 4,
   "metadata": {},
   "outputs": [
    {
     "output_type": "stream",
     "name": "stdout",
     "text": [
      "Lego admits it made too many bricks\n"
     ]
    }
   ],
   "source": [
    "print(s.sm_api_title)"
   ]
  },
  {
   "cell_type": "code",
   "execution_count": 5,
   "metadata": {},
   "outputs": [
    {
     "output_type": "stream",
     "name": "stdout",
     "text": [
      "bbc.com\n"
     ]
    }
   ],
   "source": [
    "print(s.sm_domain)"
   ]
  },
  {
   "cell_type": "code",
   "execution_count": 6,
   "metadata": {},
   "outputs": [
    {
     "output_type": "stream",
     "name": "stdout",
     "text": [
      "80%\n"
     ]
    }
   ],
   "source": [
    "print(s.sm_api_content_reduced)"
   ]
  },
  {
   "cell_type": "code",
   "execution_count": 8,
   "metadata": {},
   "outputs": [
    {
     "output_type": "stream",
     "name": "stdout",
     "text": [
      "Too many Lego bricks is a problem many parents will sympathise with, but now the toy firm itself has admitted it has made too many. 915,103,765 - the number of ways to combine six two-by-four Lego bricks of the same colour. 3,700 - the number of different types of Lego bricks. In September, Lego said its half-year results had suffered because it had stretched itself too thin by diversifying into products that were not toys, such as the Lego movies. Lego chairman Jorgen Knudstorp said at the time that adding complexity to the company had made it harder for the toymaker to grow further.\n"
     ]
    }
   ],
   "source": [
    "print(s.sm_api_content)"
   ]
  },
  {
   "cell_type": "code",
   "execution_count": 10,
   "metadata": {},
   "outputs": [
    {
     "output_type": "execute_result",
     "data": {
      "text/plain": [
       "dict_keys(['params', 'api_url', 'sm_url', 'smmry_dict', 'sm_domain', 'sm_requests_remaining', 'sm_api_character_count', 'sm_api_content_reduced', 'sm_api_title', 'sm_api_content', 'sm_api_limitation', 'sm_length'])"
      ]
     },
     "metadata": {},
     "execution_count": 10
    }
   ],
   "source": [
    "s.__dict__.keys()"
   ]
  },
  {
   "cell_type": "code",
   "execution_count": null,
   "metadata": {},
   "outputs": [],
   "source": []
  }
 ]
}